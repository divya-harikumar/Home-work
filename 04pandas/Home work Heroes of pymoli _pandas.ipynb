{
 "cells": [
  {
   "cell_type": "code",
   "execution_count": 5,
   "metadata": {},
   "outputs": [
    {
     "data": {
      "text/plain": [
       "['.ipynb_checkpoints',\n",
       " 'divya_unit4 (2).ipynb',\n",
       " 'generated_data',\n",
       " 'Heroes of Pymoli',\n",
       " 'HeroesGenerator.py',\n",
       " 'players_complete.csv',\n",
       " 'purchase_data_3.csv',\n",
       " 'raw_data',\n",
       " 'untitled',\n",
       " 'untitled1',\n",
       " 'untitled2']"
      ]
     },
     "execution_count": 5,
     "metadata": {},
     "output_type": "execute_result"
    }
   ],
   "source": [
    "import os\n",
    "os.listdir('.')\n"
   ]
  },
  {
   "cell_type": "code",
   "execution_count": 6,
   "metadata": {},
   "outputs": [],
   "source": [
    "import pandas as pd\n",
    "df = pd.read_csv(\"purchase_data_3.csv\")"
   ]
  },
  {
   "cell_type": "code",
   "execution_count": 3,
   "metadata": {},
   "outputs": [
    {
     "data": {
      "text/plain": [
       "[0, 9, 14, 19, 24, 29, 34, 39, 44, 49]"
      ]
     },
     "execution_count": 3,
     "metadata": {},
     "output_type": "execute_result"
    }
   ],
   "source": [
    "### Age Demographics\n",
    "r = list(range(9,50,5))\n",
    "r.insert(0,0)\n",
    "r"
   ]
  },
  {
   "cell_type": "code",
   "execution_count": 4,
   "metadata": {},
   "outputs": [],
   "source": [
    "grp_age = df.groupby( pd.cut(df['Age'], r) )"
   ]
  },
  {
   "cell_type": "code",
   "execution_count": 8,
   "metadata": {},
   "outputs": [
    {
     "data": {
      "text/plain": [
       "Age\n",
       "(0, 9]       5\n",
       "(9, 14]      3\n",
       "(14, 19]    11\n",
       "(19, 24]    36\n",
       "(24, 29]     9\n",
       "(29, 34]     7\n",
       "(34, 39]     6\n",
       "(39, 44]     1\n",
       "(44, 49]     0\n",
       "Name: Purch_count, dtype: int64"
      ]
     },
     "execution_count": 8,
     "metadata": {},
     "output_type": "execute_result"
    }
   ],
   "source": [
    "# Age Demo Purch Count\n",
    "df_count_demo = grp_age['Price'].count()\n",
    "df_count_demo.rename('Purch_count')"
   ]
  },
  {
   "cell_type": "code",
   "execution_count": 9,
   "metadata": {},
   "outputs": [
    {
     "data": {
      "text/plain": [
       "Age\n",
       "(0, 9]      2.764000\n",
       "(9, 14]     2.986667\n",
       "(14, 19]    2.764545\n",
       "(19, 24]    3.024722\n",
       "(24, 29]    2.901111\n",
       "(29, 34]    1.984286\n",
       "(34, 39]    3.561667\n",
       "(39, 44]    4.650000\n",
       "(44, 49]         NaN\n",
       "Name: Avg_purch_price, dtype: float64"
      ]
     },
     "execution_count": 9,
     "metadata": {},
     "output_type": "execute_result"
    }
   ],
   "source": [
    "# Age Demo Avg Purch Price\n",
    "df_avg_price_demo = grp_age['Price'].mean()\n",
    "df_avg_price_demo.rename('Avg_purch_price')"
   ]
  },
  {
   "cell_type": "code",
   "execution_count": 10,
   "metadata": {},
   "outputs": [
    {
     "data": {
      "text/plain": [
       "Age\n",
       "(0, 9]       13.82\n",
       "(9, 14]       8.96\n",
       "(14, 19]     30.41\n",
       "(19, 24]    108.89\n",
       "(24, 29]     26.11\n",
       "(29, 34]     13.89\n",
       "(34, 39]     21.37\n",
       "(39, 44]      4.65\n",
       "(44, 49]      0.00\n",
       "Name: Total_purch_value, dtype: float64"
      ]
     },
     "execution_count": 10,
     "metadata": {},
     "output_type": "execute_result"
    }
   ],
   "source": [
    "# Total Purch Value\n",
    "df_tot_demo = grp_age['Price'].sum()\n",
    "df_tot_demo.rename('Total_purch_value')"
   ]
  },
  {
   "cell_type": "code",
   "execution_count": 13,
   "metadata": {},
   "outputs": [
    {
     "data": {
      "text/plain": [
       "228.10000000000002"
      ]
     },
     "execution_count": 13,
     "metadata": {},
     "output_type": "execute_result"
    }
   ],
   "source": [
    "# Normalized Totals  ???\n",
    "total_purch = df['Price'].sum()\n",
    "total_purch"
   ]
  },
  {
   "cell_type": "code",
   "execution_count": 16,
   "metadata": {},
   "outputs": [
    {
     "data": {
      "text/plain": [
       "Age\n",
       "(0, 9]      0.060587\n",
       "(9, 14]     0.039281\n",
       "(14, 19]    0.133319\n",
       "(19, 24]    0.477378\n",
       "(24, 29]    0.114467\n",
       "(29, 34]    0.060894\n",
       "(34, 39]    0.093687\n",
       "(39, 44]    0.020386\n",
       "(44, 49]    0.000000\n",
       "Name: Price, dtype: float64"
      ]
     },
     "execution_count": 16,
     "metadata": {},
     "output_type": "execute_result"
    }
   ],
   "source": [
    "df_norm_tot = df_tot_demo / 228.10\n",
    "df_norm_tot"
   ]
  },
  {
   "cell_type": "code",
   "execution_count": null,
   "metadata": {},
   "outputs": [],
   "source": []
  },
  {
   "cell_type": "code",
   "execution_count": 17,
   "metadata": {},
   "outputs": [],
   "source": [
    "### Top Spenders"
   ]
  },
  {
   "cell_type": "code",
   "execution_count": 7,
   "metadata": {},
   "outputs": [
    {
     "data": {
      "text/plain": [
       "SN\n",
       "Sundaky74     7.41\n",
       "Aidaira26     5.13\n",
       "Eusty71       4.81\n",
       "Chanirra64    4.78\n",
       "Alarap40      4.71\n",
       "Name: Top_5_spenders, dtype: float64"
      ]
     },
     "execution_count": 7,
     "metadata": {},
     "output_type": "execute_result"
    }
   ],
   "source": [
    "# df of top 5 spenders\n",
    "df_tot_purch_by_SN = df.groupby('SN')['Price'].sum()\n",
    "df_sorted = df_tot_purch_by_SN.sort_values(ascending=False)\n",
    "df_top5 = df_sorted.iloc[[0,1,2,3,4]] \n",
    "df_top5.rename('Top_5_spenders')"
   ]
  },
  {
   "cell_type": "code",
   "execution_count": 8,
   "metadata": {},
   "outputs": [
    {
     "data": {
      "text/html": [
       "<div>\n",
       "<style scoped>\n",
       "    .dataframe tbody tr th:only-of-type {\n",
       "        vertical-align: middle;\n",
       "    }\n",
       "\n",
       "    .dataframe tbody tr th {\n",
       "        vertical-align: top;\n",
       "    }\n",
       "\n",
       "    .dataframe thead th {\n",
       "        text-align: right;\n",
       "    }\n",
       "</style>\n",
       "<table border=\"1\" class=\"dataframe\">\n",
       "  <thead>\n",
       "    <tr style=\"text-align: right;\">\n",
       "      <th></th>\n",
       "      <th>Purchase ID</th>\n",
       "      <th>SN</th>\n",
       "      <th>Age</th>\n",
       "      <th>Gender</th>\n",
       "      <th>Item ID</th>\n",
       "      <th>Item Name</th>\n",
       "      <th>Price</th>\n",
       "    </tr>\n",
       "  </thead>\n",
       "  <tbody>\n",
       "    <tr>\n",
       "      <th>1</th>\n",
       "      <td>1</td>\n",
       "      <td>Aidaira26</td>\n",
       "      <td>21</td>\n",
       "      <td>Male</td>\n",
       "      <td>12</td>\n",
       "      <td>Dawne</td>\n",
       "      <td>3.36</td>\n",
       "    </tr>\n",
       "    <tr>\n",
       "      <th>27</th>\n",
       "      <td>27</td>\n",
       "      <td>Sundaky74</td>\n",
       "      <td>25</td>\n",
       "      <td>Male</td>\n",
       "      <td>117</td>\n",
       "      <td>Heartstriker, Legacy of the Light</td>\n",
       "      <td>4.71</td>\n",
       "    </tr>\n",
       "    <tr>\n",
       "      <th>32</th>\n",
       "      <td>32</td>\n",
       "      <td>Alarap40</td>\n",
       "      <td>24</td>\n",
       "      <td>Female</td>\n",
       "      <td>117</td>\n",
       "      <td>Heartstriker, Legacy of the Light</td>\n",
       "      <td>4.71</td>\n",
       "    </tr>\n",
       "    <tr>\n",
       "      <th>48</th>\n",
       "      <td>48</td>\n",
       "      <td>Eusty71</td>\n",
       "      <td>25</td>\n",
       "      <td>Male</td>\n",
       "      <td>84</td>\n",
       "      <td>Arcane Gem</td>\n",
       "      <td>4.81</td>\n",
       "    </tr>\n",
       "    <tr>\n",
       "      <th>62</th>\n",
       "      <td>62</td>\n",
       "      <td>Chanirra64</td>\n",
       "      <td>18</td>\n",
       "      <td>Male</td>\n",
       "      <td>25</td>\n",
       "      <td>Hero Cane</td>\n",
       "      <td>4.78</td>\n",
       "    </tr>\n",
       "    <tr>\n",
       "      <th>68</th>\n",
       "      <td>68</td>\n",
       "      <td>Aidaira26</td>\n",
       "      <td>21</td>\n",
       "      <td>Male</td>\n",
       "      <td>82</td>\n",
       "      <td>Nirvana</td>\n",
       "      <td>1.77</td>\n",
       "    </tr>\n",
       "    <tr>\n",
       "      <th>71</th>\n",
       "      <td>71</td>\n",
       "      <td>Sundaky74</td>\n",
       "      <td>25</td>\n",
       "      <td>Male</td>\n",
       "      <td>60</td>\n",
       "      <td>Wolf</td>\n",
       "      <td>2.70</td>\n",
       "    </tr>\n",
       "  </tbody>\n",
       "</table>\n",
       "</div>"
      ],
      "text/plain": [
       "    Purchase ID          SN  Age  Gender  Item ID  \\\n",
       "1             1   Aidaira26   21    Male       12   \n",
       "27           27   Sundaky74   25    Male      117   \n",
       "32           32    Alarap40   24  Female      117   \n",
       "48           48     Eusty71   25    Male       84   \n",
       "62           62  Chanirra64   18    Male       25   \n",
       "68           68   Aidaira26   21    Male       82   \n",
       "71           71   Sundaky74   25    Male       60   \n",
       "\n",
       "                            Item Name  Price  \n",
       "1                               Dawne   3.36  \n",
       "27  Heartstriker, Legacy of the Light   4.71  \n",
       "32  Heartstriker, Legacy of the Light   4.71  \n",
       "48                         Arcane Gem   4.81  \n",
       "62                          Hero Cane   4.78  \n",
       "68                            Nirvana   1.77  \n",
       "71                               Wolf   2.70  "
      ]
     },
     "execution_count": 8,
     "metadata": {},
     "output_type": "execute_result"
    }
   ],
   "source": [
    "top5_SN_list = list(df_top5.index)\n",
    "df_of_top5 = df[ df['SN'].isin(top5_SN_list) ]\n",
    "df_of_top5"
   ]
  },
  {
   "cell_type": "code",
   "execution_count": 39,
   "metadata": {},
   "outputs": [],
   "source": [
    "# create groupby for top5 price\n",
    "grp_top5_price = df_of_top5.groupby('SN')['Price']"
   ]
  },
  {
   "cell_type": "code",
   "execution_count": 41,
   "metadata": {},
   "outputs": [
    {
     "data": {
      "text/plain": [
       "SN\n",
       "Aerithllora36    1\n",
       "Aidaira26        2\n",
       "Alarap40         1\n",
       "Chanirra64       1\n",
       "Eusty71          1\n",
       "Sundaky74        2\n",
       "Name: Price, dtype: int64"
      ]
     },
     "execution_count": 41,
     "metadata": {},
     "output_type": "execute_result"
    }
   ],
   "source": [
    "# top 5 Purch Count\n",
    "df_top5_purch_count = grp_top5_price.count()\n",
    "df_top5_purch_count"
   ]
  },
  {
   "cell_type": "code",
   "execution_count": 42,
   "metadata": {},
   "outputs": [
    {
     "data": {
      "text/plain": [
       "SN\n",
       "Aerithllora36    4.650\n",
       "Aidaira26        2.565\n",
       "Alarap40         4.710\n",
       "Chanirra64       4.780\n",
       "Eusty71          4.810\n",
       "Sundaky74        3.705\n",
       "Name: Price, dtype: float64"
      ]
     },
     "execution_count": 42,
     "metadata": {},
     "output_type": "execute_result"
    }
   ],
   "source": [
    "# top 5 avg purch price\n",
    "df_top5_avg_price = grp_top5_price.mean()\n",
    "df_top5_avg_price"
   ]
  },
  {
   "cell_type": "code",
   "execution_count": 43,
   "metadata": {},
   "outputs": [
    {
     "data": {
      "text/plain": [
       "SN\n",
       "Aerithllora36    4.65\n",
       "Aidaira26        5.13\n",
       "Alarap40         4.71\n",
       "Chanirra64       4.78\n",
       "Eusty71          4.81\n",
       "Sundaky74        7.41\n",
       "Name: Price, dtype: float64"
      ]
     },
     "execution_count": 43,
     "metadata": {},
     "output_type": "execute_result"
    }
   ],
   "source": [
    "# top 5 tot purch val\n",
    "df_top5_purch_value = grp_top5_price.sum()\n",
    "df_top5_purch_value"
   ]
  },
  {
   "cell_type": "code",
   "execution_count": 48,
   "metadata": {},
   "outputs": [
    {
     "data": {
      "text/html": [
       "<div>\n",
       "<style scoped>\n",
       "    .dataframe tbody tr th:only-of-type {\n",
       "        vertical-align: middle;\n",
       "    }\n",
       "\n",
       "    .dataframe tbody tr th {\n",
       "        vertical-align: top;\n",
       "    }\n",
       "\n",
       "    .dataframe thead th {\n",
       "        text-align: right;\n",
       "    }\n",
       "</style>\n",
       "<table border=\"1\" class=\"dataframe\">\n",
       "  <thead>\n",
       "    <tr style=\"text-align: right;\">\n",
       "      <th></th>\n",
       "      <th>Purch Count</th>\n",
       "      <th>Avg Price</th>\n",
       "      <th>Total</th>\n",
       "    </tr>\n",
       "    <tr>\n",
       "      <th>SN</th>\n",
       "      <th></th>\n",
       "      <th></th>\n",
       "      <th></th>\n",
       "    </tr>\n",
       "  </thead>\n",
       "  <tbody>\n",
       "    <tr>\n",
       "      <th>Aerithllora36</th>\n",
       "      <td>1</td>\n",
       "      <td>4.650</td>\n",
       "      <td>4.65</td>\n",
       "    </tr>\n",
       "    <tr>\n",
       "      <th>Aidaira26</th>\n",
       "      <td>2</td>\n",
       "      <td>2.565</td>\n",
       "      <td>5.13</td>\n",
       "    </tr>\n",
       "    <tr>\n",
       "      <th>Alarap40</th>\n",
       "      <td>1</td>\n",
       "      <td>4.710</td>\n",
       "      <td>4.71</td>\n",
       "    </tr>\n",
       "    <tr>\n",
       "      <th>Chanirra64</th>\n",
       "      <td>1</td>\n",
       "      <td>4.780</td>\n",
       "      <td>4.78</td>\n",
       "    </tr>\n",
       "    <tr>\n",
       "      <th>Eusty71</th>\n",
       "      <td>1</td>\n",
       "      <td>4.810</td>\n",
       "      <td>4.81</td>\n",
       "    </tr>\n",
       "    <tr>\n",
       "      <th>Sundaky74</th>\n",
       "      <td>2</td>\n",
       "      <td>3.705</td>\n",
       "      <td>7.41</td>\n",
       "    </tr>\n",
       "  </tbody>\n",
       "</table>\n",
       "</div>"
      ],
      "text/plain": [
       "               Purch Count  Avg Price  Total\n",
       "SN                                          \n",
       "Aerithllora36            1      4.650   4.65\n",
       "Aidaira26                2      2.565   5.13\n",
       "Alarap40                 1      4.710   4.71\n",
       "Chanirra64               1      4.780   4.78\n",
       "Eusty71                  1      4.810   4.81\n",
       "Sundaky74                2      3.705   7.41"
      ]
     },
     "execution_count": 48,
     "metadata": {},
     "output_type": "execute_result"
    }
   ],
   "source": [
    "# create df table of the above\n",
    "df_table = pd.DataFrame.from_items([ ('Purch Count', df_top5_purch_count), \n",
    "                                    ('Avg Price', df_top5_avg_price), ('Total', df_top5_purch_value) ])\n",
    "df_table"
   ]
  },
  {
   "cell_type": "code",
   "execution_count": null,
   "metadata": {},
   "outputs": [],
   "source": []
  },
  {
   "cell_type": "code",
   "execution_count": null,
   "metadata": {},
   "outputs": [],
   "source": [
    "### Most Popular Items"
   ]
  },
  {
   "cell_type": "code",
   "execution_count": 55,
   "metadata": {},
   "outputs": [
    {
     "data": {
      "text/plain": [
       "Item ID\n",
       "0      1\n",
       "1      1\n",
       "2      1\n",
       "4      1\n",
       "5      1\n",
       "6      1\n",
       "8      1\n",
       "9      1\n",
       "10     1\n",
       "12     1\n",
       "14     1\n",
       "16     1\n",
       "17     1\n",
       "18     1\n",
       "23     1\n",
       "25     1\n",
       "27     1\n",
       "31     1\n",
       "41     1\n",
       "44     1\n",
       "60     2\n",
       "64     2\n",
       "68     1\n",
       "70     1\n",
       "71     1\n",
       "79     1\n",
       "82     1\n",
       "84     1\n",
       "90     2\n",
       "91     1\n",
       "      ..\n",
       "104    1\n",
       "105    1\n",
       "107    1\n",
       "108    2\n",
       "111    2\n",
       "117    2\n",
       "118    1\n",
       "123    1\n",
       "126    2\n",
       "127    1\n",
       "129    1\n",
       "131    1\n",
       "134    1\n",
       "138    1\n",
       "139    1\n",
       "148    1\n",
       "154    2\n",
       "155    1\n",
       "156    1\n",
       "158    1\n",
       "163    1\n",
       "164    1\n",
       "167    1\n",
       "170    1\n",
       "172    1\n",
       "173    1\n",
       "174    1\n",
       "176    2\n",
       "180    2\n",
       "181    1\n",
       "Name: Item ID, Length: 64, dtype: int64"
      ]
     },
     "execution_count": 55,
     "metadata": {},
     "output_type": "execute_result"
    }
   ],
   "source": [
    "df_top5_item_id = df.groupby('Item ID')['Item ID'].count()\n",
    "df_top5_item_id.sort_values(ascending=False)\n",
    "df_top5_item_id"
   ]
  },
  {
   "cell_type": "code",
   "execution_count": null,
   "metadata": {},
   "outputs": [],
   "source": []
  },
  {
   "cell_type": "code",
   "execution_count": null,
   "metadata": {},
   "outputs": [],
   "source": []
  },
  {
   "cell_type": "code",
   "execution_count": null,
   "metadata": {},
   "outputs": [],
   "source": []
  }
 ],
 "metadata": {
  "kernelspec": {
   "display_name": "Python 3",
   "language": "python",
   "name": "python3"
  },
  "language_info": {
   "codemirror_mode": {
    "name": "ipython",
    "version": 3
   },
   "file_extension": ".py",
   "mimetype": "text/x-python",
   "name": "python",
   "nbconvert_exporter": "python",
   "pygments_lexer": "ipython3",
   "version": "3.6.4"
  }
 },
 "nbformat": 4,
 "nbformat_minor": 2
}
